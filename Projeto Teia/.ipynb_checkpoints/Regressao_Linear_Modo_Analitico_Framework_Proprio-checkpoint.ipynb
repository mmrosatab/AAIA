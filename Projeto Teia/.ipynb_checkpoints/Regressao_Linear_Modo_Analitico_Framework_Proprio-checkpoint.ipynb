{
 "cells": [
  {
   "cell_type": "markdown",
   "metadata": {},
   "source": [
    "# Regressão Linear Modo analítico "
   ]
  },
  {
   "cell_type": "markdown",
   "metadata": {},
   "source": [
    "O concreto é um dos materiais mais importantes da construção civil trata-se de um material resultante da mistura de um aglomerante(cimento), agregados(areias e britas), água, adições e/ou aditivos. Para avaliação da resistência e qualidade do concreto empregado nas estruturas são feitos ensaios, dente eles, o mais utilizado, é o que avalia a resistência a compressão."
   ]
  },
  {
   "cell_type": "markdown",
   "metadata": {},
   "source": [
    "# Predição de Resistência à compressão do concreto"
   ]
  },
  {
   "cell_type": "markdown",
   "metadata": {},
   "source": [
    "O objetivo deste trabalho consiste na aplicação de experimentos para a predição de resistência à compressão de concreto modo analitico. Para análise dos dados utilizaremos algumas das métricas de regressão linear (MAE, MSE, RMSE e MAPE) e de funções para fazer cálculos e gerar gráficos a partir da base de dados."
   ]
  },
  {
   "cell_type": "markdown",
   "metadata": {},
   "source": [
    "# O Data Set “Resistência à compressão do concreto” foi obtido diretamente do repositório da UCI (UCI Machine Learning Repository,2007)"
   ]
  },
  {
   "cell_type": "code",
   "execution_count": 9,
   "metadata": {
    "collapsed": false
   },
   "outputs": [
    {
     "data": {
      "image/jpeg": "[encoded data removed]",
      "text/plain": [
       "<IPython.core.display.Image object>"
      ]
     },
     "execution_count": 9,
     "metadata": {},
     "output_type": "execute_result"
    }
   ],
   "source": [
    "from IPython.display import Image\n",
    "Image(\"concrete.jpg\")"
   ]
  },
  {
   "cell_type": "markdown",
   "metadata": {},
   "source": [
    "O primeiro passo para a exploração do dataset é carregar a base de dados:\n",
    "workbook = xlrd.open_workbook('Concrete_Data.xls')"
   ]
  },
  {
   "cell_type": "markdown",
   "metadata": {},
   "source": [
    "Distribuição de atributos:1030 instâncias\n",
    "8 variáveis quantitativas de entrada e 1 variável quantitativa de saída(A resistência à compressão efectiva do betão (MPa) para uma determinada mistura)\n",
    "Nenhum valor de atributo ausente.\n",
    "\n",
    "Ingredientes(7 Atributos de entrada): cimento(Cement), escória de alto forno(Blast Furnace Slag), cinzas volantes(Fly Ash), água(Water), superplastificante(Superplasticizer), Agregado grosso(Coarse Aggregate) e Agregado fino(Fine Aggregate). Age(Idade) Day(Dias) (1~365)"
   ]
  },
  {
   "cell_type": "markdown",
   "metadata": {},
   "source": [
    "No Pré-processamento dos Dados \n",
    "Uma transformação que pode ser aplicada é a normalização dos dados, que consiste no ajuste da escala dos valores de\n",
    "cada atributo de forma que os valores fiquem em pequenos intervalos, tais como de -1 a 1 ou de 0 a 1.\n",
    "A transformação de normalização de variáveis tem por objetivo evitar problemas que podem ocorrer de um atributo\n",
    "numericamente maior sobre os demais, ou a perda de relevância de um atributo numericamente inferior em relação aos demais.\n",
    "A funcao normalGaussiana(X) é utilizada para normalização dos dados"
   ]
  },
  {
   "cell_type": "code",
   "execution_count": 5,
   "metadata": {
    "collapsed": false
   },
   "outputs": [],
   "source": [
    "import matplotlib.pyplot as plt\n",
    "import numpy as np\n",
    "import xlrd\n",
    "from sklearn import datasets, linear_model\n",
    "#workbook = xlrd.open_workbook('/home/mmrosa/MEGA/MEGAsync/GitHub Commits/Teia 18-02-2017/Concrete_Data.xls')\n",
    "workbook = xlrd.open_workbook('Concrete_Data.xls')\n",
    "sheet = workbook.sheet_by_index(0)\n",
    "\n",
    "def normalGaussiana(X):\n",
    "    \n",
    "    dp = np.std(X)\n",
    "    a = 1/(dp*np.sqrt(2*np.pi))\n",
    "    media = np.mean(X)\n",
    "    (n,m) = np.shape(X)  \n",
    "    \n",
    "    for i in range(n):\n",
    "        for j in range(m):\n",
    "            X[i][j] = a*(np.exp(1)**(1/2))**(((X[i][j] - media)/dp)**2)\n",
    "    \n",
    "    return X"
   ]
  },
  {
   "cell_type": "markdown",
   "metadata": {},
   "source": [
    "# Algoritmo"
   ]
  },
  {
   "cell_type": "code",
   "execution_count": 6,
   "metadata": {
    "collapsed": false
   },
   "outputs": [],
   "source": [
    "class LMSTrainer:\n",
    "     \n",
    "    def _init_(self):\n",
    "        pass\n",
    "        \n",
    "    def h(self,thetas,linhaMatriz):\n",
    "    \n",
    "        hip = 0\n",
    "        hip = hip + np.dot(thetas, [1]+linhaMatriz)\n",
    "        \n",
    "        return hip\n",
    "    \n",
    "    def somatorio(self, thetas, exemplos, gabarito, m):\n",
    "        \n",
    "        resultado = 0\n",
    "        \n",
    "        for i in range(m):\n",
    "            resultado = resultado + (self.h(thetas, exemplos[i]) - gabarito[i]) ** 2\n",
    "        return resultado\n",
    "    \n",
    "    def somat(self, thetas, exemplos, gabarito, j):\n",
    "        \n",
    "        resultado = 0\n",
    "        linha = len(gabarito)\n",
    "        \n",
    "        for i in range(linha):\n",
    "            if (j-1) < 0: # se j for 0, significa que estou calculando Theta(0), 0 - 1 < 0\n",
    "                resultado = resultado + self.h(thetas, exemplos[i]) - gabarito[i]\n",
    "            else:\n",
    "                # faço j-1 porque não coloquei uma coluna de 1 para multiplicar o Theta(0) na matriz original, logo\n",
    "                # meu j vai ser maior que o num de colunas na matriz original e acessaria índice indevido\n",
    "                resultado = resultado + (self.h(thetas, exemplos[i]) - gabarito[i])*exemplos[i][j-1]\n",
    "                #print(\"exemplo[i][j-1] =\", exemplos[i][j-1])\n",
    "                \n",
    "        return resultado\n",
    "    \n",
    "    def custo(self, thetas, exemplos, gabarito, qtdElementos):\n",
    "        \n",
    "        m = qtdElementos\n",
    "        valor = (1/(2*m)) * self.somatorio(thetas, exemplos, gabarito, m)\n",
    "        return valor\n",
    "        \n",
    "    def train (self, thetas, exemplos, gabarito):\n",
    "        \n",
    "        linhas = len(gabarito)\n",
    "        alfa = 0.000001\n",
    "        aux = [0] * len(thetas)\n",
    "        m = linhas\n",
    "        inicial = self.custo(thetas, exemplos, gabarito, m)\n",
    "        final = 0\n",
    "        #print(\"Custo inicial: \",inicial)\n",
    "        interacoes = 0\n",
    "        # final > 0.000001 or \n",
    "        while(interacoes < 2000):\n",
    "            for i in range(len(thetas)):\n",
    "                coluna = i\n",
    "                aux[i] = thetas[i] - (alfa/m) * self.somat(thetas, exemplos, gabarito, coluna)\n",
    "            thetas = aux[:]\n",
    "            j = self.custo(thetas, exemplos, gabarito,m)\n",
    "            interacoes = interacoes + 1\n",
    "            final = self.custo(thetas, exemplos, gabarito, m)\n",
    "            \n",
    "        #print(\"Custo final:\", final)\n",
    "        return LMSPredictor(thetas)\n",
    "    \n",
    "    def analitic(self,exemplos,gabarito):\n",
    "        \n",
    "        for i in range(len(exemplos)):\n",
    "            exemplos[i] = [1]+exemplos[i]\n",
    "            \n",
    "        matrizTransposta = np.transpose(exemplos) \n",
    "        produtoMatrizes = np.dot(matrizTransposta,exemplos) \n",
    "        matrizInversa = np.linalg.inv(produtoMatrizes)\n",
    "       \n",
    "        aux = np.dot(matrizInversa,matrizTransposta) \n",
    "        vetorThetas = np.dot(aux,gabarito)\n",
    "       \n",
    "        return LMSPredictor(vetorThetas)\n",
    "    \n",
    "class LMSPredictor:\n",
    "        \n",
    "    def __init__(self, thetas):\n",
    "        self.thetas = thetas\n",
    "    \n",
    "    def predict (self, samples):\n",
    "        valores = [0] * len(samples)\n",
    "        for i in range(len(samples)):\n",
    "            valores[i] = np.dot(self.thetas, [1]+samples[i])\n",
    "            valores[i] = np.round(valores[i],4)\n",
    "        return valores\n"
   ]
  },
  {
   "cell_type": "code",
   "execution_count": 7,
   "metadata": {
    "collapsed": false
   },
   "outputs": [
    {
     "name": "stdout",
     "output_type": "stream",
     "text": [
      "Gabarito: [0.0015, 0.0014, 0.0014, 0.0015, 0.0015, 0.0014, 0.0014, 0.0014, 0.0015]\n",
      "\n",
      "Resposta Analítico: [0.0015, 0.0015, 0.0014, 0.0015, 0.0015, 0.0015, 0.0015, 0.0014, 0.0015]\n"
     ]
    }
   ],
   "source": [
    "matriz = []\n",
    "y = []\n",
    "\n",
    "# Pega a matriz, exceto a última coluna\n",
    "for i in range(sheet.nrows-1):\n",
    "    matriz.append([])\n",
    "    for j in range(sheet.ncols):\n",
    "        #print(sheet.cell_value(i+1,j))\n",
    "        matriz[i].append(sheet.cell_value(i+1,j))\n",
    "        \n",
    "#Normaliza os atributos\n",
    "matrix = []\n",
    "matrix = normalGaussiana(matriz)\n",
    "\n",
    "# Pega o gabarito\n",
    "for i in range(1030):\n",
    "    y.append(matrix[i][8])\n",
    "    \n",
    "#Retira uma coluna da matriz\n",
    "for i in range(1030):\n",
    "    matrix[i] = matrix[i][0:8]\n",
    "    \n",
    "thetas = [0,1,1,1,1,1,1,1,1]\n",
    "conjunto_treino = matrix[:500]\n",
    "gabarito_treino = y[:500]\n",
    "conjunto_teste  = matrix[301:310]\n",
    "gabarito_teste  = y[301:310]\n",
    "\n",
    "for i in range(len(gabarito_teste)):\n",
    "    gabarito_teste[i] = np.round(gabarito_teste[i],4)\n",
    "\n",
    "lms = LMSTrainer()\n",
    "preditor_analitico = lms.analitic(conjunto_treino, gabarito_treino)\n",
    "\n",
    "\n",
    "print(\"Gabarito:\", gabarito_teste)\n",
    "print()\n",
    "print(\"Resposta Analítico:\", preditor_analitico.predict(conjunto_teste))\n",
    "\n",
    "# Plot \n",
    "#plt.scatter(conjunto_teste, gabarito_teste,  color='black')\n",
    "plt.plot(conjunto_teste ,preditor_analitico.predict(conjunto_teste), color='blue',linewidth=3)\n",
    "\n",
    "plt.xticks(())\n",
    "plt.yticks(())\n",
    "plt.show()\n",
    "    "
   ]
  },
  {
   "cell_type": "markdown",
   "metadata": {
    "collapsed": true
   },
   "source": [
    "# Métricas de regressão linear utilizadas para análise dos dados (MAE, MSE, RMSE e MAPE)"
   ]
  },
  {
   "cell_type": "code",
   "execution_count": 8,
   "metadata": {
    "collapsed": false
   },
   "outputs": [
    {
     "name": "stdout",
     "output_type": "stream",
     "text": [
      "3.33333333333e-05\n",
      "3.33333333333e-09\n",
      "5.7735026919e-05\n",
      "0.0238095238095\n"
     ]
    }
   ],
   "source": [
    "import numpy as np\n",
    "from numpy import sqrt\n",
    "\n",
    "def mae(resposta, predicao):\n",
    "    n = len(resposta)\n",
    "    soma = .0\n",
    "    dif = 0\n",
    "    for i in range(n):\n",
    "        dif = resposta[i] - predicao[i]\n",
    "        soma = soma + abs(dif)\n",
    "    return soma/n\n",
    "\n",
    "def mse(resposta, predicao):\n",
    "    soma = .0\n",
    "    dif = 0\n",
    "    n = len(resposta)\n",
    "    for i in range(n):\n",
    "        dif = (resposta[i] - predicao[i])**2\n",
    "        soma = soma+dif\n",
    "    return soma/n\n",
    "\n",
    "def rmse(resposta, predicao):\n",
    "    return sqrt(mse(resposta, predicao))\n",
    "\n",
    "def mape(resposta, predicao):\n",
    "    soma = .0\n",
    "    dif = 0\n",
    "    n = len(resposta)\n",
    "    \n",
    "    for i in range(n):\n",
    "        dif = abs((resposta[i] - predicao[i])/resposta[i])\n",
    "        soma = soma + dif\n",
    "    return soma/n\n",
    "\n",
    "print(mae (gabarito_teste,preditor_analitico.predict(conjunto_teste)))\n",
    "print(mse (gabarito_teste,preditor_analitico.predict(conjunto_teste)))\n",
    "print(rmse(gabarito_teste,preditor_analitico.predict(conjunto_teste)))\n",
    "print(mape (gabarito_teste,preditor_analitico.predict(conjunto_teste)))"
   ]
  },
  {
   "cell_type": "code",
   "execution_count": null,
   "metadata": {
    "collapsed": true
   },
   "outputs": [],
   "source": []
  }
 ],
 "metadata": {
  "anaconda-cloud": {},
  "kernelspec": {
   "display_name": "Python [Root]",
   "language": "python",
   "name": "Python [Root]"
  },
  "language_info": {
   "codemirror_mode": {
    "name": "ipython",
    "version": 3
   },
   "file_extension": ".py",
   "mimetype": "text/x-python",
   "name": "python",
   "nbconvert_exporter": "python",
   "pygments_lexer": "ipython3",
   "version": "3.5.2"
  }
 },
 "nbformat": 4,
 "nbformat_minor": 0
}
